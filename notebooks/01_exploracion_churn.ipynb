{
 "cells": [
  {
   "cell_type": "code",
   "execution_count": 90,
   "id": "a049243e",
   "metadata": {},
   "outputs": [],
   "source": [
    "import pandas as pd\n",
    "import numpy as np\n",
    "import os\n",
    "import seaborn as sns\n",
    "import matplotlib.pyplot as plt\n",
    "import plotly.express as px"
   ]
  },
  {
   "cell_type": "code",
   "execution_count": 119,
   "id": "0926cb95",
   "metadata": {},
   "outputs": [],
   "source": [
    "# PARAMETROS\n",
    "ruta = os.path.join(\"..\", \"data\", \"raw\")\n",
    "ruta_processed = os.path.join(\"..\", \"data\", \"processed\")\n",
    "date_train = ['2014-06-30', '2014-07-31']\n",
    "date_test = '2014-08-31'"
   ]
  },
  {
   "cell_type": "code",
   "execution_count": 76,
   "id": "0be45127",
   "metadata": {},
   "outputs": [],
   "source": [
    "# OBJETOS \n",
    "df_dict = {}"
   ]
  },
  {
   "cell_type": "code",
   "execution_count": 77,
   "id": "a881981b",
   "metadata": {},
   "outputs": [
    {
     "name": "stdout",
     "output_type": "stream",
     "text": [
      "dict_keys(['dataset_prueba', 'data_dict'])\n"
     ]
    }
   ],
   "source": [
    "for dirname, _, filenames in os.walk(ruta):\n",
    "    for filename in filenames:\n",
    "        if filename.endswith(\".csv\"):\n",
    "            filepath = os.path.join(dirname, filename)\n",
    "            df = pd.read_csv(filepath)\n",
    "            key = os.path.splitext(filename)[0]\n",
    "            df_dict[key] = df\n",
    "\n",
    "# Verifica los nombres de los DataFrames guardados\n",
    "print(df_dict.keys())"
   ]
  },
  {
   "cell_type": "markdown",
   "id": "ff21d7b7",
   "metadata": {},
   "source": [
    "Exploración de Datos"
   ]
  },
  {
   "cell_type": "code",
   "execution_count": 78,
   "id": "1015ae8d",
   "metadata": {},
   "outputs": [
    {
     "data": {
      "text/html": [
       "<div>\n",
       "<style scoped>\n",
       "    .dataframe tbody tr th:only-of-type {\n",
       "        vertical-align: middle;\n",
       "    }\n",
       "\n",
       "    .dataframe tbody tr th {\n",
       "        vertical-align: top;\n",
       "    }\n",
       "\n",
       "    .dataframe thead th {\n",
       "        text-align: right;\n",
       "    }\n",
       "</style>\n",
       "<table border=\"1\" class=\"dataframe\">\n",
       "  <thead>\n",
       "    <tr style=\"text-align: right;\">\n",
       "      <th></th>\n",
       "      <th>last_date_of_month</th>\n",
       "      <th>arpu</th>\n",
       "      <th>onnet_mou</th>\n",
       "      <th>offnet_mou</th>\n",
       "      <th>roam_ic_mou</th>\n",
       "      <th>roam_og_mou</th>\n",
       "      <th>loc_og_t2t_mou</th>\n",
       "      <th>loc_og_t2m_mou</th>\n",
       "      <th>loc_og_t2f_mou</th>\n",
       "      <th>loc_og_t2c_mou</th>\n",
       "      <th>...</th>\n",
       "      <th>arpu_3g</th>\n",
       "      <th>arpu_2g</th>\n",
       "      <th>night_pck_user</th>\n",
       "      <th>monthly_2g</th>\n",
       "      <th>sachet_2g</th>\n",
       "      <th>monthly_3g</th>\n",
       "      <th>sachet_3g</th>\n",
       "      <th>fb_user</th>\n",
       "      <th>churn</th>\n",
       "      <th>mobile_number</th>\n",
       "    </tr>\n",
       "  </thead>\n",
       "  <tbody>\n",
       "    <tr>\n",
       "      <th>0</th>\n",
       "      <td>8/31/2014</td>\n",
       "      <td>213.803</td>\n",
       "      <td>0.00</td>\n",
       "      <td>0.00</td>\n",
       "      <td>0.0</td>\n",
       "      <td>0.0</td>\n",
       "      <td>0.00</td>\n",
       "      <td>0.00</td>\n",
       "      <td>0.0</td>\n",
       "      <td>0.0</td>\n",
       "      <td>...</td>\n",
       "      <td>212.17</td>\n",
       "      <td>212.17</td>\n",
       "      <td>0.0</td>\n",
       "      <td>0</td>\n",
       "      <td>0</td>\n",
       "      <td>1</td>\n",
       "      <td>0</td>\n",
       "      <td>1.0</td>\n",
       "      <td>0</td>\n",
       "      <td>7000842753</td>\n",
       "    </tr>\n",
       "    <tr>\n",
       "      <th>1</th>\n",
       "      <td>8/31/2014</td>\n",
       "      <td>268.321</td>\n",
       "      <td>7.68</td>\n",
       "      <td>304.76</td>\n",
       "      <td>0.0</td>\n",
       "      <td>0.0</td>\n",
       "      <td>7.68</td>\n",
       "      <td>291.86</td>\n",
       "      <td>0.0</td>\n",
       "      <td>0.0</td>\n",
       "      <td>...</td>\n",
       "      <td>0.00</td>\n",
       "      <td>7.60</td>\n",
       "      <td>0.0</td>\n",
       "      <td>0</td>\n",
       "      <td>2</td>\n",
       "      <td>0</td>\n",
       "      <td>0</td>\n",
       "      <td>1.0</td>\n",
       "      <td>0</td>\n",
       "      <td>7001865778</td>\n",
       "    </tr>\n",
       "  </tbody>\n",
       "</table>\n",
       "<p>2 rows × 56 columns</p>\n",
       "</div>"
      ],
      "text/plain": [
       "  last_date_of_month     arpu  onnet_mou  offnet_mou  roam_ic_mou  \\\n",
       "0          8/31/2014  213.803       0.00        0.00          0.0   \n",
       "1          8/31/2014  268.321       7.68      304.76          0.0   \n",
       "\n",
       "   roam_og_mou  loc_og_t2t_mou  loc_og_t2m_mou  loc_og_t2f_mou  \\\n",
       "0          0.0            0.00            0.00             0.0   \n",
       "1          0.0            7.68          291.86             0.0   \n",
       "\n",
       "   loc_og_t2c_mou  ...  arpu_3g  arpu_2g  night_pck_user  monthly_2g  \\\n",
       "0             0.0  ...   212.17   212.17             0.0           0   \n",
       "1             0.0  ...     0.00     7.60             0.0           0   \n",
       "\n",
       "   sachet_2g  monthly_3g  sachet_3g  fb_user  churn  mobile_number  \n",
       "0          0           1          0      1.0      0     7000842753  \n",
       "1          2           0          0      1.0      0     7001865778  \n",
       "\n",
       "[2 rows x 56 columns]"
      ]
     },
     "execution_count": 78,
     "metadata": {},
     "output_type": "execute_result"
    }
   ],
   "source": [
    "df_dict['dataset_prueba'].head(2)"
   ]
  },
  {
   "cell_type": "code",
   "execution_count": 79,
   "id": "e02fb512",
   "metadata": {},
   "outputs": [
    {
     "data": {
      "text/plain": [
       "Index(['last_date_of_month', 'arpu', 'onnet_mou', 'offnet_mou', 'roam_ic_mou',\n",
       "       'roam_og_mou', 'loc_og_t2t_mou', 'loc_og_t2m_mou', 'loc_og_t2f_mou',\n",
       "       'loc_og_t2c_mou', 'loc_og_mou', 'std_og_t2t_mou', 'std_og_t2m_mou',\n",
       "       'std_og_t2f_mou', 'std_og_t2c_mou', 'std_og_mou', 'isd_og_mou',\n",
       "       'spl_og_mou', 'og_others', 'total_og_mou', 'loc_ic_t2t_mou',\n",
       "       'loc_ic_t2m_mou', 'loc_ic_t2f_mou', 'loc_ic_mou', 'std_ic_t2t_mou',\n",
       "       'std_ic_t2m_mou', 'std_ic_t2f_mou', 'std_ic_t2o_mou', 'std_ic_mou',\n",
       "       'total_ic_mou', 'spl_ic_mou', 'isd_ic_mou', 'ic_others',\n",
       "       'total_rech_num', 'total_rech_amt', 'max_rech_amt', 'date_of_last_rech',\n",
       "       'last_day_rch_amt', 'date_of_last_rech_data', 'total_rech_data',\n",
       "       'max_rech_data', 'count_rech_2g', 'count_rech_3g', 'av_rech_amt_data',\n",
       "       'vol_2g_mb', 'vol_3g_mb', 'arpu_3g', 'arpu_2g', 'night_pck_user',\n",
       "       'monthly_2g', 'sachet_2g', 'monthly_3g', 'sachet_3g', 'fb_user',\n",
       "       'churn', 'mobile_number'],\n",
       "      dtype='object')"
      ]
     },
     "execution_count": 79,
     "metadata": {},
     "output_type": "execute_result"
    }
   ],
   "source": [
    "df_dict['dataset_prueba'].columns"
   ]
  },
  {
   "cell_type": "code",
   "execution_count": 80,
   "id": "125c8137",
   "metadata": {},
   "outputs": [
    {
     "data": {
      "text/plain": [
       "array([ 2, 11,  2, ...,  5,  3,  5], shape=(299997,))"
      ]
     },
     "execution_count": 80,
     "metadata": {},
     "output_type": "execute_result"
    }
   ],
   "source": [
    "df_dict['dataset_prueba']['total_rech_num'].values"
   ]
  },
  {
   "cell_type": "markdown",
   "id": "5f1f74a5",
   "metadata": {},
   "source": [
    "Analisis de Datos"
   ]
  },
  {
   "cell_type": "code",
   "execution_count": 81,
   "id": "db14c7d9",
   "metadata": {},
   "outputs": [],
   "source": [
    "df_dict['dataset_prueba']['last_date_of_month'] = pd.to_datetime(df_dict['dataset_prueba']['last_date_of_month'])"
   ]
  },
  {
   "cell_type": "code",
   "execution_count": 82,
   "id": "434d6097",
   "metadata": {},
   "outputs": [],
   "source": [
    "df_train = df_dict['dataset_prueba'][df_dict['dataset_prueba']['last_date_of_month'].isin(pd.to_datetime(date_train))].copy()\n",
    "df_test = df_dict['dataset_prueba'][df_dict['dataset_prueba']['last_date_of_month'] == pd.to_datetime(date_test)].copy()"
   ]
  },
  {
   "cell_type": "markdown",
   "id": "b7be0bac",
   "metadata": {},
   "source": [
    "1. Clasificación de clientes a partir de la variable ARPU"
   ]
  },
  {
   "cell_type": "code",
   "execution_count": 83,
   "id": "d6fb890f",
   "metadata": {},
   "outputs": [],
   "source": [
    "def clasificacion_clientes(df, Variable=\"arpu\", cortes={0.9: 'platino', 0.8: 'gold'}):\n",
    "    cortes_ordenados = sorted(cortes.items(), reverse=True)\n",
    "\n",
    "    clasificacion = pd.Series('normal', index=df.index)\n",
    "    flag_clasificacion = pd.Series(False, index=df.index)\n",
    "    \n",
    "    for p, categoria in cortes_ordenados:\n",
    "        valor_corte = df[Variable].quantile(p)\n",
    "        faltante = (df[Variable] >= valor_corte) & (~flag_clasificacion)\n",
    "        clasificacion[faltante] = categoria\n",
    "        flag_clasificacion[faltante] = True\n",
    "\n",
    "    return clasificacion"
   ]
  },
  {
   "cell_type": "code",
   "execution_count": 84,
   "id": "e726b28a",
   "metadata": {},
   "outputs": [
    {
     "name": "stdout",
     "output_type": "stream",
     "text": [
      "clasificacion_clientes_revenue\n",
      "normal     159516\n",
      "gold        19941\n",
      "platino     19940\n",
      "Name: count, dtype: int64\n"
     ]
    }
   ],
   "source": [
    "cortes = {0.9: 'platino', 0.8: 'gold'}\n",
    "df_train['clasificacion_clientes_revenue'] = clasificacion_clientes(df_train, cortes=cortes)\n",
    "\n",
    "print(df_train['clasificacion_clientes_revenue'].value_counts())"
   ]
  },
  {
   "cell_type": "markdown",
   "id": "0079013f",
   "metadata": {},
   "source": [
    "2. Generación de la variable flag_recarga"
   ]
  },
  {
   "cell_type": "code",
   "execution_count": 85,
   "id": "cef203d2",
   "metadata": {},
   "outputs": [],
   "source": [
    "def crea_flag_binario(df, variable = 'total_rech_num', nueva_columna = 'rech'):\n",
    "    df[nueva_columna] = (df[variable] > 0).astype(int)\n",
    "    return df"
   ]
  },
  {
   "cell_type": "code",
   "execution_count": 86,
   "id": "525f7deb",
   "metadata": {},
   "outputs": [
    {
     "name": "stdout",
     "output_type": "stream",
     "text": [
      "rech\n",
      "1    196624\n",
      "0      2773\n",
      "Name: count, dtype: int64\n"
     ]
    }
   ],
   "source": [
    "df_train = crea_flag_binario(df_train)\n",
    "print(df_train['rech'].value_counts())"
   ]
  },
  {
   "cell_type": "markdown",
   "id": "c16ef135",
   "metadata": {},
   "source": [
    "3. la proporción de churn de cada mes (junio y julio) "
   ]
  },
  {
   "cell_type": "code",
   "execution_count": 87,
   "id": "f75da84b",
   "metadata": {},
   "outputs": [],
   "source": [
    "def eliminar_nulos_proporcion(df, proporcion_nulos=0.7):\n",
    "    nan_columnas = df.isnull().mean()\n",
    "    columnas_eliminadas = nan_columnas[nan_columnas > proporcion_nulos].index.tolist()\n",
    "    df_clean = df.drop(columns=columnas_eliminadas)\n",
    "    return df_clean, columnas_eliminadas"
   ]
  },
  {
   "cell_type": "code",
   "execution_count": 88,
   "id": "29c7aea6",
   "metadata": {},
   "outputs": [
    {
     "name": "stdout",
     "output_type": "stream",
     "text": [
      "Número de columnas antes de eliminar: 58\n",
      "Número de columnas borradas: 10\n",
      "Número de columnas restantes: 48\n"
     ]
    }
   ],
   "source": [
    "print(f\"Número de columnas antes de eliminar: {df_train.shape[1]}\")\n",
    "df_train, cols_borradas = eliminar_nulos_proporcion(df_train, proporcion_nulos=0.7)\n",
    "print(f\"Número de columnas borradas: {len(cols_borradas)}\")\n",
    "print(f\"Número de columnas restantes: {df_train.shape[1]}\")"
   ]
  },
  {
   "cell_type": "markdown",
   "id": "6fbe3199",
   "metadata": {},
   "source": [
    "4. Proporcion de Churn por detalle"
   ]
  },
  {
   "cell_type": "code",
   "execution_count": 113,
   "id": "7b3ff454",
   "metadata": {},
   "outputs": [],
   "source": [
    "def proporcion_target_por_periodo(df, target='churn', periodo='last_date_of_month', periodos=None, decimales=3):       \n",
    "    if not pd.api.types.is_datetime64_any_dtype(df[periodo]):\n",
    "        df = df.copy()\n",
    "\n",
    "    if periodos is not None:\n",
    "        periodos_dt = pd.to_datetime(periodos)\n",
    "        data = df[df[periodo].isin(periodos_dt)]\n",
    "    else:\n",
    "        data = df\n",
    "        \n",
    "    resultado = (\n",
    "        data.groupby(periodo)[target]\n",
    "        .mean()\n",
    "        .round(decimales)\n",
    "        .reset_index(name=f'prop_{target}')\n",
    "    )\n",
    "    for _, row in resultado.iterrows():\n",
    "        print(f\"Churn {row[periodo].date()}: {row[f'prop_{target}']}\")\n",
    "    return resultado"
   ]
  },
  {
   "cell_type": "code",
   "execution_count": 114,
   "id": "c1a780ab",
   "metadata": {},
   "outputs": [
    {
     "name": "stdout",
     "output_type": "stream",
     "text": [
      "Churn 2014-06-30: 0.01\n",
      "Churn 2014-07-31: 0.015\n"
     ]
    },
    {
     "data": {
      "text/html": [
       "<div>\n",
       "<style scoped>\n",
       "    .dataframe tbody tr th:only-of-type {\n",
       "        vertical-align: middle;\n",
       "    }\n",
       "\n",
       "    .dataframe tbody tr th {\n",
       "        vertical-align: top;\n",
       "    }\n",
       "\n",
       "    .dataframe thead th {\n",
       "        text-align: right;\n",
       "    }\n",
       "</style>\n",
       "<table border=\"1\" class=\"dataframe\">\n",
       "  <thead>\n",
       "    <tr style=\"text-align: right;\">\n",
       "      <th></th>\n",
       "      <th>last_date_of_month</th>\n",
       "      <th>prop_churn</th>\n",
       "    </tr>\n",
       "  </thead>\n",
       "  <tbody>\n",
       "    <tr>\n",
       "      <th>0</th>\n",
       "      <td>2014-06-30</td>\n",
       "      <td>0.010</td>\n",
       "    </tr>\n",
       "    <tr>\n",
       "      <th>1</th>\n",
       "      <td>2014-07-31</td>\n",
       "      <td>0.015</td>\n",
       "    </tr>\n",
       "  </tbody>\n",
       "</table>\n",
       "</div>"
      ],
      "text/plain": [
       "  last_date_of_month  prop_churn\n",
       "0         2014-06-30       0.010\n",
       "1         2014-07-31       0.015"
      ]
     },
     "execution_count": 114,
     "metadata": {},
     "output_type": "execute_result"
    }
   ],
   "source": [
    "proporcion_target_por_periodo( df_train, target='churn', periodo='last_date_of_month', periodos=['2014-06-30', '2014-07-31'])"
   ]
  },
  {
   "cell_type": "markdown",
   "id": "a8dc0e54",
   "metadata": {},
   "source": [
    "5. ¿Se observan diferencias en la distribución de la variable total_rech_num? "
   ]
  },
  {
   "cell_type": "code",
   "execution_count": null,
   "id": "ab65cff3",
   "metadata": {},
   "outputs": [],
   "source": [
    "def plot_distribucion_segmentada(df, variable, grupo, bins=30, titulo=None):\n",
    "    plt.figure(figsize=(10, 5))\n",
    "    sns.histplot( data=df, x=variable, hue=grupo, bins=bins, element='step', \n",
    "        stat='density', common_norm=False )\n",
    "    plt.title(titulo if titulo else f'Distribución de {variable} por {grupo}')\n",
    "    plt.show()"
   ]
  },
  {
   "cell_type": "code",
   "execution_count": null,
   "id": "c00ed34f",
   "metadata": {},
   "outputs": [],
   "source": [
    "def plot_distribucion_por_mes(df, variable, grupo, fecha_col, bins=30, titulo=None):\n",
    "    g = sns.FacetGrid(df, col=fecha_col, height=4, aspect=1.5, sharex=True, sharey=True)\n",
    "    g.map_dataframe(\n",
    "        sns.histplot,\n",
    "        x=variable,\n",
    "        hue=grupo,\n",
    "        bins=bins,\n",
    "        element='step',\n",
    "        stat='density',\n",
    "        common_norm=False\n",
    "    )\n",
    "    g.add_legend()\n",
    "    g.set_titles(col_template=\"{col_name}\")\n",
    "    plt.subplots_adjust(top=0.8)\n",
    "    g.fig.suptitle(titulo if titulo else f\"Distribución de {variable} por {grupo} y {fecha_col}\")\n",
    "    plt.show()"
   ]
  },
  {
   "cell_type": "code",
   "execution_count": null,
   "id": "f29eeba9",
   "metadata": {},
   "outputs": [
    {
     "data": {
      "image/png": "[encoded data removed]",
      "text/plain": [
       "<Figure size 1000x500 with 1 Axes>"
      ]
     },
     "metadata": {},
     "output_type": "display_data"
    }
   ],
   "source": [
    "plot_distribucion_segmentada(\n",
    "    df_train, variable='total_rech_num',\n",
    "    grupo='churn', bins=30, titulo='Distribución de total_rech_num por churn' )\n"
   ]
  },
  {
   "cell_type": "code",
   "execution_count": 105,
   "id": "ce11cce2",
   "metadata": {},
   "outputs": [
    {
     "data": {
      "image/png": "[encoded data removed]",
      "text/plain": [
       "<Figure size 1211.11x400 with 2 Axes>"
      ]
     },
     "metadata": {},
     "output_type": "display_data"
    }
   ],
   "source": [
    "plot_distribucion_por_mes(\n",
    "    df_train, variable='total_rech_num',\n",
    "    grupo='churn', fecha_col='last_date_of_month',\n",
    "    bins=30, titulo='Distribución de total_rech_num por churn por mes'\n",
    ")"
   ]
  },
  {
   "cell_type": "code",
   "execution_count": null,
   "id": "3dfb773c",
   "metadata": {},
   "outputs": [
    {
     "name": "stdout",
     "output_type": "stream",
     "text": [
      "          count      mean       std  min  25%  50%   75%    max\n",
      "churn                                                          \n",
      "0      196846.0  7.698323  7.078632  0.0  3.0  6.0  10.0  307.0\n",
      "1        2551.0  4.123089  5.589674  0.0  1.0  3.0   5.0   80.0\n"
     ]
    }
   ],
   "source": [
    "print(df_train.groupby('churn')['total_rech_num'].describe())"
   ]
  },
  {
   "cell_type": "markdown",
   "id": "e04eb8c3",
   "metadata": {},
   "source": [
    "Sí. Los clientes que hicieron churn suelen tener menos recargas permanecen.\n",
    "Esto sugiere que una baja actividad de recargas podría ser un indicador de probabilidad de fuga."
   ]
  },
  {
   "cell_type": "code",
   "execution_count": 117,
   "id": "4548b01d",
   "metadata": {},
   "outputs": [],
   "source": [
    "df_test = crea_flag_binario(df_test)\n",
    "df_test['clasificacion_clientes_revenue'] = clasificacion_clientes(df_test, cortes=cortes)"
   ]
  },
  {
   "cell_type": "code",
   "execution_count": 118,
   "id": "de921c02",
   "metadata": {},
   "outputs": [],
   "source": [
    "df_test = df_test[df_train.columns]"
   ]
  },
  {
   "cell_type": "code",
   "execution_count": 120,
   "id": "abbe07bd",
   "metadata": {},
   "outputs": [],
   "source": [
    "df_train.to_csv(os.path.join(ruta_processed, \"df_train.csv\"), index=False)\n",
    "df_test.to_csv(os.path.join(ruta_processed, \"df_test.csv\"), index=False)"
   ]
  }
 ],
 "metadata": {
  "kernelspec": {
   "display_name": "Python 3",
   "language": "python",
   "name": "python3"
  },
  "language_info": {
   "codemirror_mode": {
    "name": "ipython",
    "version": 3
   },
   "file_extension": ".py",
   "mimetype": "text/x-python",
   "name": "python",
   "nbconvert_exporter": "python",
   "pygments_lexer": "ipython3",
   "version": "3.13.3"
  }
 },
 "nbformat": 4,
 "nbformat_minor": 5
}
